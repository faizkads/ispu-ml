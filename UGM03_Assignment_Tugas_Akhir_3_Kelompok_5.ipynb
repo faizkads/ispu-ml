{
  "nbformat": 4,
  "nbformat_minor": 0,
  "metadata": {
    "colab": {
      "name": " UGM03_Assignment Tugas Akhir 3_Kelompok 5",
      "provenance": []
    },
    "kernelspec": {
      "name": "python3",
      "display_name": "Python 3"
    },
    "language_info": {
      "name": "python"
    }
  },
  "cells": [
    {
      "cell_type": "markdown",
      "metadata": {
        "id": "Szv_AUDBE-pm"
      },
      "source": [
        "#**Prediksi Rata-rata Tingkat Polutan Kualitas Udara DKI Jakarta Berdasarkan Indeks Standar Pencemaran Udara (ISPU) menggunakan metode Long Short-Term Memory (LSTM)**\n",
        "Tugas Akhir Kelompok 5 - Kelas UGM03\n",
        "\n",
        "Anggota:\n",
        "\n",
        "\n",
        "* Bagus Dwi Hariyanto\n",
        "* Faiz Khansa Adrika\n",
        "* Sharon Syalomitha\n",
        "\n"
      ]
    },
    {
      "cell_type": "markdown",
      "metadata": {
        "id": "EpK6W-ixGFKQ"
      },
      "source": [
        "##**Deskripsi Data Perkembangan Indeks Standar Pencemaran Udara Wilayah DKI Jakarta**"
      ]
    },
    {
      "cell_type": "markdown",
      "metadata": {
        "id": "BxHczaxcFAwO"
      },
      "source": [
        "Data ini merupakan data sekunder yang diambil melalui website [Jakarta Open Data](https://data.jakarta.go.id/) dan dibuat oleh Dinas Lingkungan Hidup DKI Jakarta\n",
        "\n",
        "Dataset time-series terstruktur ini berisi mengenai Indeks Standar Pencemar Udara (ISPU) yang diukur dari 5 stasiun pemantau kualitas udara (SPKU) yang ada di Provinsi DKI Jakarta periode Januari 2018 -Juli Tahun 2021\n",
        "\n",
        "Penjelasan variabel dari data sebagai berikut :\n",
        "\n",
        "1. tanggal : Tanggal pengukuran kualitas udara\n",
        "3. pm10 : Partikulat salah satu parameter yang diukur\n",
        "5. so2 : Sulfida (dalam bentuk SO2) salah satu parameter yang diukur\n",
        "6. co : Carbon Monoksida salah satu parameter yand diukur\n",
        "7. o3 : Ozon salah satu parameter yang diukur\n",
        "8. no2 : NItrogen dioksida salah satu parameter yang diukur\n",
        "9. max : Nilai ukur paling tinggi dari seluruh parameter yang diukur dalam waktu yang sama\n",
        "10. critical : Parameter yang hasil pengukurannya paling tinggi\n",
        "11. categori : Kategori hasil perhitungan indeks standar pencemaran udara\n",
        "11. lokasi_spku : Stasiun pengukuran"
      ]
    },
    {
      "cell_type": "markdown",
      "metadata": {
        "id": "tMY-eIy0GKnw"
      },
      "source": [
        "##Library yang dibutuhkan"
      ]
    },
    {
      "cell_type": "code",
      "metadata": {
        "id": "joFtA_GFMmOH"
      },
      "source": [
        "import os\n",
        "import numpy as np\n",
        "import pandas as pd\n",
        "import matplotlib.pyplot as plt\n",
        "import seaborn as sns\n",
        "import tensorflow as tf\n",
        "from sklearn.preprocessing import MinMaxScaler\n",
        "from tensorflow.keras.models import Sequential\n",
        "from tensorflow.keras.layers import Dense, Dropout, LSTM"
      ],
      "execution_count": null,
      "outputs": []
    },
    {
      "cell_type": "markdown",
      "metadata": {
        "id": "EGWXyONWGPpx"
      },
      "source": [
        "##Pengambilan Data"
      ]
    },
    {
      "cell_type": "markdown",
      "metadata": {
        "id": "uUjkEf0kLP7g"
      },
      "source": [
        "Data ini diambil secara manual melalui website Jakarta Open Data yang menyediakan dataset ISPU terpisah setiap bulannya, sehingga diperlukan penggabungan (concatenation) data dari bulan Januari 2018 - Juli 2021"
      ]
    },
    {
      "cell_type": "code",
      "source": [
        "from google.colab import drive\n",
        "drive.mount('/content/drive')"
      ],
      "metadata": {
        "colab": {
          "base_uri": "https://localhost:8080/"
        },
        "id": "eqXPhmPFnXYk",
        "outputId": "5f368394-3aa5-4818-ba81-c24a49ce4817"
      },
      "execution_count": null,
      "outputs": [
        {
          "output_type": "stream",
          "name": "stdout",
          "text": [
            "Mounted at /content/drive\n"
          ]
        }
      ]
    },
    {
      "cell_type": "code",
      "metadata": {
        "colab": {
          "base_uri": "https://localhost:8080/",
          "height": 423
        },
        "id": "5SVEf56LMyjS",
        "outputId": "a33c5f37-4786-4ace-e249-3bc8d0f0ecd6"
      },
      "source": [
        "dir='/content/drive/MyDrive/MC AI/Total'\n",
        "files = os.listdir(dir) #Folder tempat kumpulan dataset bulan Januari-Juli\n",
        "#Kolom sesuai variabel dataset\n",
        "df = pd.DataFrame(columns=['tanggal', 'pm10', 'so2', 'co', 'o3', 'no2', 'max',\n",
        "       'critical', 'categori','lokasi_spku'])\n",
        "\n",
        "#Memuat data ke dataframe pandas dan penggabungan (concatenation) data dari 1 folder\n",
        "for file in files:\n",
        "  df_all = pd.read_csv(os.path.join(dir,file))\n",
        "  df = pd.concat([df, df_all], ignore_index=True) #Data yang diambil hanya dari SPKU DKI1 yang terletak di Bunderan HI\n",
        "  df = df.sort_values(by='tanggal', ascending=True) #Mengurutkan data berdasar tanggal\n",
        "\n",
        "df"
      ],
      "execution_count": null,
      "outputs": [
        {
          "output_type": "execute_result",
          "data": {
            "text/html": [
              "<div>\n",
              "<style scoped>\n",
              "    .dataframe tbody tr th:only-of-type {\n",
              "        vertical-align: middle;\n",
              "    }\n",
              "\n",
              "    .dataframe tbody tr th {\n",
              "        vertical-align: top;\n",
              "    }\n",
              "\n",
              "    .dataframe thead th {\n",
              "        text-align: right;\n",
              "    }\n",
              "</style>\n",
              "<table border=\"1\" class=\"dataframe\">\n",
              "  <thead>\n",
              "    <tr style=\"text-align: right;\">\n",
              "      <th></th>\n",
              "      <th>tanggal</th>\n",
              "      <th>pm10</th>\n",
              "      <th>so2</th>\n",
              "      <th>co</th>\n",
              "      <th>o3</th>\n",
              "      <th>no2</th>\n",
              "      <th>max</th>\n",
              "      <th>critical</th>\n",
              "      <th>categori</th>\n",
              "      <th>lokasi_spku</th>\n",
              "      <th>pm25</th>\n",
              "      <th>Unnamed: 10</th>\n",
              "    </tr>\n",
              "  </thead>\n",
              "  <tbody>\n",
              "    <tr>\n",
              "      <th>0</th>\n",
              "      <td>2018-01-01</td>\n",
              "      <td>76</td>\n",
              "      <td>31</td>\n",
              "      <td>38</td>\n",
              "      <td>35</td>\n",
              "      <td>9</td>\n",
              "      <td>76</td>\n",
              "      <td>PM10</td>\n",
              "      <td>SEDANG</td>\n",
              "      <td>DKI4</td>\n",
              "      <td>NaN</td>\n",
              "      <td>NaN</td>\n",
              "    </tr>\n",
              "    <tr>\n",
              "      <th>1</th>\n",
              "      <td>2018-01-02</td>\n",
              "      <td>23</td>\n",
              "      <td>31</td>\n",
              "      <td>24</td>\n",
              "      <td>39</td>\n",
              "      <td>14</td>\n",
              "      <td>39</td>\n",
              "      <td>O3</td>\n",
              "      <td>BAIK</td>\n",
              "      <td>DKI3</td>\n",
              "      <td>NaN</td>\n",
              "      <td>NaN</td>\n",
              "    </tr>\n",
              "    <tr>\n",
              "      <th>2</th>\n",
              "      <td>2018-01-03</td>\n",
              "      <td>53</td>\n",
              "      <td>35</td>\n",
              "      <td>35</td>\n",
              "      <td>101</td>\n",
              "      <td>23</td>\n",
              "      <td>101</td>\n",
              "      <td>O3</td>\n",
              "      <td>TIDAK SEHAT</td>\n",
              "      <td>DKI3</td>\n",
              "      <td>NaN</td>\n",
              "      <td>NaN</td>\n",
              "    </tr>\n",
              "    <tr>\n",
              "      <th>3</th>\n",
              "      <td>2018-01-04</td>\n",
              "      <td>53</td>\n",
              "      <td>49</td>\n",
              "      <td>34</td>\n",
              "      <td>57</td>\n",
              "      <td>15</td>\n",
              "      <td>57</td>\n",
              "      <td>O3</td>\n",
              "      <td>SEDANG</td>\n",
              "      <td>DKI3</td>\n",
              "      <td>NaN</td>\n",
              "      <td>NaN</td>\n",
              "    </tr>\n",
              "    <tr>\n",
              "      <th>4</th>\n",
              "      <td>2018-01-05</td>\n",
              "      <td>44</td>\n",
              "      <td>32</td>\n",
              "      <td>26</td>\n",
              "      <td>28</td>\n",
              "      <td>10</td>\n",
              "      <td>44</td>\n",
              "      <td>PM10</td>\n",
              "      <td>BAIK</td>\n",
              "      <td>DKI4</td>\n",
              "      <td>NaN</td>\n",
              "      <td>NaN</td>\n",
              "    </tr>\n",
              "    <tr>\n",
              "      <th>...</th>\n",
              "      <td>...</td>\n",
              "      <td>...</td>\n",
              "      <td>...</td>\n",
              "      <td>...</td>\n",
              "      <td>...</td>\n",
              "      <td>...</td>\n",
              "      <td>...</td>\n",
              "      <td>...</td>\n",
              "      <td>...</td>\n",
              "      <td>...</td>\n",
              "      <td>...</td>\n",
              "      <td>...</td>\n",
              "    </tr>\n",
              "    <tr>\n",
              "      <th>1271</th>\n",
              "      <td>2021-07-27</td>\n",
              "      <td>82</td>\n",
              "      <td>56</td>\n",
              "      <td>13</td>\n",
              "      <td>41</td>\n",
              "      <td>35</td>\n",
              "      <td>140</td>\n",
              "      <td>PM25</td>\n",
              "      <td>TIDAK SEHAT</td>\n",
              "      <td>DKI4</td>\n",
              "      <td>140.0</td>\n",
              "      <td>NaN</td>\n",
              "    </tr>\n",
              "    <tr>\n",
              "      <th>1272</th>\n",
              "      <td>2021-07-28</td>\n",
              "      <td>82</td>\n",
              "      <td>53</td>\n",
              "      <td>18</td>\n",
              "      <td>40</td>\n",
              "      <td>45</td>\n",
              "      <td>145</td>\n",
              "      <td>PM25</td>\n",
              "      <td>TIDAK SEHAT</td>\n",
              "      <td>DKI4</td>\n",
              "      <td>145.0</td>\n",
              "      <td>NaN</td>\n",
              "    </tr>\n",
              "    <tr>\n",
              "      <th>1273</th>\n",
              "      <td>2021-07-29</td>\n",
              "      <td>78</td>\n",
              "      <td>52</td>\n",
              "      <td>18</td>\n",
              "      <td>53</td>\n",
              "      <td>39</td>\n",
              "      <td>140</td>\n",
              "      <td>PM25</td>\n",
              "      <td>TIDAK SEHAT</td>\n",
              "      <td>DKI5</td>\n",
              "      <td>140.0</td>\n",
              "      <td>NaN</td>\n",
              "    </tr>\n",
              "    <tr>\n",
              "      <th>1274</th>\n",
              "      <td>2021-07-30</td>\n",
              "      <td>90</td>\n",
              "      <td>54</td>\n",
              "      <td>15</td>\n",
              "      <td>81</td>\n",
              "      <td>35</td>\n",
              "      <td>154</td>\n",
              "      <td>PM25</td>\n",
              "      <td>TIDAK SEHAT</td>\n",
              "      <td>DKI4</td>\n",
              "      <td>154.0</td>\n",
              "      <td>NaN</td>\n",
              "    </tr>\n",
              "    <tr>\n",
              "      <th>1275</th>\n",
              "      <td>2021-07-31</td>\n",
              "      <td>63</td>\n",
              "      <td>50</td>\n",
              "      <td>18</td>\n",
              "      <td>65</td>\n",
              "      <td>29</td>\n",
              "      <td>100</td>\n",
              "      <td>PM26</td>\n",
              "      <td>SEDANG</td>\n",
              "      <td>DKI4</td>\n",
              "      <td>100.0</td>\n",
              "      <td>NaN</td>\n",
              "    </tr>\n",
              "  </tbody>\n",
              "</table>\n",
              "<p>1307 rows × 12 columns</p>\n",
              "</div>"
            ],
            "text/plain": [
              "         tanggal pm10 so2  co  ...     categori lokasi_spku   pm25 Unnamed: 10\n",
              "0     2018-01-01   76  31  38  ...       SEDANG        DKI4    NaN         NaN\n",
              "1     2018-01-02   23  31  24  ...         BAIK        DKI3    NaN         NaN\n",
              "2     2018-01-03   53  35  35  ...  TIDAK SEHAT        DKI3    NaN         NaN\n",
              "3     2018-01-04   53  49  34  ...       SEDANG        DKI3    NaN         NaN\n",
              "4     2018-01-05   44  32  26  ...         BAIK        DKI4    NaN         NaN\n",
              "...          ...  ...  ..  ..  ...          ...         ...    ...         ...\n",
              "1271  2021-07-27   82  56  13  ...  TIDAK SEHAT        DKI4  140.0         NaN\n",
              "1272  2021-07-28   82  53  18  ...  TIDAK SEHAT        DKI4  145.0         NaN\n",
              "1273  2021-07-29   78  52  18  ...  TIDAK SEHAT        DKI5  140.0         NaN\n",
              "1274  2021-07-30   90  54  15  ...  TIDAK SEHAT        DKI4  154.0         NaN\n",
              "1275  2021-07-31   63  50  18  ...       SEDANG        DKI4  100.0         NaN\n",
              "\n",
              "[1307 rows x 12 columns]"
            ]
          },
          "metadata": {},
          "execution_count": 3
        }
      ]
    },
    {
      "cell_type": "markdown",
      "metadata": {
        "id": "_Z-9iq5CL_Zn"
      },
      "source": [
        "**Data Exploration/Menelaah Data**"
      ]
    },
    {
      "cell_type": "code",
      "metadata": {
        "colab": {
          "base_uri": "https://localhost:8080/"
        },
        "id": "lgW3Lx_dNWzf",
        "outputId": "2e65cab8-7d16-454a-808b-64919619e45e"
      },
      "source": [
        "df.drop(['lokasi_spku','pm25','max','critical','categori','Unnamed: 10'],axis=1,inplace=True)\n",
        "df.info()"
      ],
      "execution_count": null,
      "outputs": [
        {
          "output_type": "stream",
          "name": "stdout",
          "text": [
            "<class 'pandas.core.frame.DataFrame'>\n",
            "Int64Index: 1307 entries, 0 to 1275\n",
            "Data columns (total 6 columns):\n",
            " #   Column   Non-Null Count  Dtype \n",
            "---  ------   --------------  ----- \n",
            " 0   tanggal  1307 non-null   object\n",
            " 1   pm10     1288 non-null   object\n",
            " 2   so2      1288 non-null   object\n",
            " 3   co       1288 non-null   object\n",
            " 4   o3       1288 non-null   object\n",
            " 5   no2      1288 non-null   object\n",
            "dtypes: object(6)\n",
            "memory usage: 71.5+ KB\n"
          ]
        }
      ]
    },
    {
      "cell_type": "markdown",
      "metadata": {
        "id": "TYOklAlwMNWT"
      },
      "source": [
        "Berdasarkan hasil output di atas, dapat diketahui bahwa terdapat 19 data kosong per variabel pada data tersebut sehingga harus diatasi. "
      ]
    },
    {
      "cell_type": "code",
      "metadata": {
        "id": "-OYD2EyuNEzy"
      },
      "source": [
        "df['tanggal'] = pd.to_datetime(df['tanggal']) #Mengubah tipe data 'tanggal'\n",
        "df.set_index('tanggal', inplace=True) #Membuat 'tanggal' menjadi index pada dataframe"
      ],
      "execution_count": null,
      "outputs": []
    },
    {
      "cell_type": "code",
      "metadata": {
        "colab": {
          "base_uri": "https://localhost:8080/",
          "height": 487
        },
        "id": "PRHxSJ9lov1Y",
        "outputId": "9e50522d-e96f-4ed8-fa9a-a8069e449cf8"
      },
      "source": [
        "df[df.eq(\"---\").any(1)] #mencari data dengan input '---' yang artinya nilai tidak tercatat"
      ],
      "execution_count": null,
      "outputs": [
        {
          "output_type": "execute_result",
          "data": {
            "text/html": [
              "<div>\n",
              "<style scoped>\n",
              "    .dataframe tbody tr th:only-of-type {\n",
              "        vertical-align: middle;\n",
              "    }\n",
              "\n",
              "    .dataframe tbody tr th {\n",
              "        vertical-align: top;\n",
              "    }\n",
              "\n",
              "    .dataframe thead th {\n",
              "        text-align: right;\n",
              "    }\n",
              "</style>\n",
              "<table border=\"1\" class=\"dataframe\">\n",
              "  <thead>\n",
              "    <tr style=\"text-align: right;\">\n",
              "      <th></th>\n",
              "      <th>pm10</th>\n",
              "      <th>so2</th>\n",
              "      <th>co</th>\n",
              "      <th>o3</th>\n",
              "      <th>no2</th>\n",
              "    </tr>\n",
              "    <tr>\n",
              "      <th>tanggal</th>\n",
              "      <th></th>\n",
              "      <th></th>\n",
              "      <th></th>\n",
              "      <th></th>\n",
              "      <th></th>\n",
              "    </tr>\n",
              "  </thead>\n",
              "  <tbody>\n",
              "    <tr>\n",
              "      <th>2020-03-02</th>\n",
              "      <td>22</td>\n",
              "      <td>---</td>\n",
              "      <td>35</td>\n",
              "      <td>213</td>\n",
              "      <td>11</td>\n",
              "    </tr>\n",
              "    <tr>\n",
              "      <th>2020-03-03</th>\n",
              "      <td>22</td>\n",
              "      <td>---</td>\n",
              "      <td>---</td>\n",
              "      <td>201</td>\n",
              "      <td>15</td>\n",
              "    </tr>\n",
              "    <tr>\n",
              "      <th>2020-03-04</th>\n",
              "      <td>54</td>\n",
              "      <td>---</td>\n",
              "      <td>39</td>\n",
              "      <td>152</td>\n",
              "      <td>13</td>\n",
              "    </tr>\n",
              "    <tr>\n",
              "      <th>2020-03-05</th>\n",
              "      <td>59</td>\n",
              "      <td>---</td>\n",
              "      <td>32</td>\n",
              "      <td>206</td>\n",
              "      <td>5</td>\n",
              "    </tr>\n",
              "    <tr>\n",
              "      <th>2020-03-20</th>\n",
              "      <td>69</td>\n",
              "      <td>---</td>\n",
              "      <td>33</td>\n",
              "      <td>99</td>\n",
              "      <td>7</td>\n",
              "    </tr>\n",
              "    <tr>\n",
              "      <th>2020-03-21</th>\n",
              "      <td>51</td>\n",
              "      <td>---</td>\n",
              "      <td>11</td>\n",
              "      <td>83</td>\n",
              "      <td>8</td>\n",
              "    </tr>\n",
              "    <tr>\n",
              "      <th>2020-03-22</th>\n",
              "      <td>42</td>\n",
              "      <td>---</td>\n",
              "      <td>15</td>\n",
              "      <td>84</td>\n",
              "      <td>6</td>\n",
              "    </tr>\n",
              "    <tr>\n",
              "      <th>2020-03-23</th>\n",
              "      <td>27</td>\n",
              "      <td>---</td>\n",
              "      <td>5</td>\n",
              "      <td>71</td>\n",
              "      <td>7</td>\n",
              "    </tr>\n",
              "    <tr>\n",
              "      <th>2020-03-24</th>\n",
              "      <td>52</td>\n",
              "      <td>---</td>\n",
              "      <td>14</td>\n",
              "      <td>105</td>\n",
              "      <td>7</td>\n",
              "    </tr>\n",
              "    <tr>\n",
              "      <th>2020-03-25</th>\n",
              "      <td>70</td>\n",
              "      <td>---</td>\n",
              "      <td>25</td>\n",
              "      <td>93</td>\n",
              "      <td>11</td>\n",
              "    </tr>\n",
              "    <tr>\n",
              "      <th>2020-03-26</th>\n",
              "      <td>34</td>\n",
              "      <td>---</td>\n",
              "      <td>6</td>\n",
              "      <td>99</td>\n",
              "      <td>5</td>\n",
              "    </tr>\n",
              "    <tr>\n",
              "      <th>2020-03-27</th>\n",
              "      <td>44</td>\n",
              "      <td>---</td>\n",
              "      <td>9</td>\n",
              "      <td>67</td>\n",
              "      <td>5</td>\n",
              "    </tr>\n",
              "    <tr>\n",
              "      <th>2020-03-28</th>\n",
              "      <td>40</td>\n",
              "      <td>---</td>\n",
              "      <td>6</td>\n",
              "      <td>117</td>\n",
              "      <td>5</td>\n",
              "    </tr>\n",
              "  </tbody>\n",
              "</table>\n",
              "</div>"
            ],
            "text/plain": [
              "           pm10  so2   co   o3 no2\n",
              "tanggal                           \n",
              "2020-03-02   22  ---   35  213  11\n",
              "2020-03-03   22  ---  ---  201  15\n",
              "2020-03-04   54  ---   39  152  13\n",
              "2020-03-05   59  ---   32  206   5\n",
              "2020-03-20   69  ---   33   99   7\n",
              "2020-03-21   51  ---   11   83   8\n",
              "2020-03-22   42  ---   15   84   6\n",
              "2020-03-23   27  ---    5   71   7\n",
              "2020-03-24   52  ---   14  105   7\n",
              "2020-03-25   70  ---   25   93  11\n",
              "2020-03-26   34  ---    6   99   5\n",
              "2020-03-27   44  ---    9   67   5\n",
              "2020-03-28   40  ---    6  117   5"
            ]
          },
          "metadata": {},
          "execution_count": 6
        }
      ]
    },
    {
      "cell_type": "code",
      "metadata": {
        "id": "Etcuxr1MqjB-"
      },
      "source": [
        "df = df.replace('---', 0)\n",
        "df = df.replace(np.nan,0)"
      ],
      "execution_count": null,
      "outputs": []
    },
    {
      "cell_type": "code",
      "metadata": {
        "id": "vQFg2YyOuMDW"
      },
      "source": [
        "#Mengubah tipe data menjadi numerik\n",
        "df[['pm10', 'so2', 'co', 'o3', 'no2']] = df[['pm10', 'so2', 'co', 'o3', 'no2']].apply(pd.to_numeric)"
      ],
      "execution_count": null,
      "outputs": []
    },
    {
      "cell_type": "code",
      "metadata": {
        "colab": {
          "base_uri": "https://localhost:8080/",
          "height": 300
        },
        "id": "OFTp3kP0t_bM",
        "outputId": "5f8c542c-b9ad-4802-92c2-dc8bae18ca0b"
      },
      "source": [
        "df.describe()"
      ],
      "execution_count": null,
      "outputs": [
        {
          "output_type": "execute_result",
          "data": {
            "text/html": [
              "<div>\n",
              "<style scoped>\n",
              "    .dataframe tbody tr th:only-of-type {\n",
              "        vertical-align: middle;\n",
              "    }\n",
              "\n",
              "    .dataframe tbody tr th {\n",
              "        vertical-align: top;\n",
              "    }\n",
              "\n",
              "    .dataframe thead th {\n",
              "        text-align: right;\n",
              "    }\n",
              "</style>\n",
              "<table border=\"1\" class=\"dataframe\">\n",
              "  <thead>\n",
              "    <tr style=\"text-align: right;\">\n",
              "      <th></th>\n",
              "      <th>pm10</th>\n",
              "      <th>so2</th>\n",
              "      <th>co</th>\n",
              "      <th>o3</th>\n",
              "      <th>no2</th>\n",
              "    </tr>\n",
              "  </thead>\n",
              "  <tbody>\n",
              "    <tr>\n",
              "      <th>count</th>\n",
              "      <td>1307.000000</td>\n",
              "      <td>1307.000000</td>\n",
              "      <td>1307.000000</td>\n",
              "      <td>1307.000000</td>\n",
              "      <td>1307.000000</td>\n",
              "    </tr>\n",
              "    <tr>\n",
              "      <th>mean</th>\n",
              "      <td>61.636572</td>\n",
              "      <td>36.373374</td>\n",
              "      <td>23.820199</td>\n",
              "      <td>94.258607</td>\n",
              "      <td>23.553175</td>\n",
              "    </tr>\n",
              "    <tr>\n",
              "      <th>std</th>\n",
              "      <td>16.817332</td>\n",
              "      <td>19.203149</td>\n",
              "      <td>11.010810</td>\n",
              "      <td>45.744836</td>\n",
              "      <td>21.858991</td>\n",
              "    </tr>\n",
              "    <tr>\n",
              "      <th>min</th>\n",
              "      <td>0.000000</td>\n",
              "      <td>0.000000</td>\n",
              "      <td>0.000000</td>\n",
              "      <td>0.000000</td>\n",
              "      <td>0.000000</td>\n",
              "    </tr>\n",
              "    <tr>\n",
              "      <th>25%</th>\n",
              "      <td>53.000000</td>\n",
              "      <td>25.000000</td>\n",
              "      <td>17.000000</td>\n",
              "      <td>60.000000</td>\n",
              "      <td>12.000000</td>\n",
              "    </tr>\n",
              "    <tr>\n",
              "      <th>50%</th>\n",
              "      <td>64.000000</td>\n",
              "      <td>30.000000</td>\n",
              "      <td>22.000000</td>\n",
              "      <td>86.000000</td>\n",
              "      <td>16.000000</td>\n",
              "    </tr>\n",
              "    <tr>\n",
              "      <th>75%</th>\n",
              "      <td>73.000000</td>\n",
              "      <td>42.000000</td>\n",
              "      <td>29.000000</td>\n",
              "      <td>122.500000</td>\n",
              "      <td>23.000000</td>\n",
              "    </tr>\n",
              "    <tr>\n",
              "      <th>max</th>\n",
              "      <td>134.000000</td>\n",
              "      <td>126.000000</td>\n",
              "      <td>88.000000</td>\n",
              "      <td>243.000000</td>\n",
              "      <td>148.000000</td>\n",
              "    </tr>\n",
              "  </tbody>\n",
              "</table>\n",
              "</div>"
            ],
            "text/plain": [
              "              pm10          so2           co           o3          no2\n",
              "count  1307.000000  1307.000000  1307.000000  1307.000000  1307.000000\n",
              "mean     61.636572    36.373374    23.820199    94.258607    23.553175\n",
              "std      16.817332    19.203149    11.010810    45.744836    21.858991\n",
              "min       0.000000     0.000000     0.000000     0.000000     0.000000\n",
              "25%      53.000000    25.000000    17.000000    60.000000    12.000000\n",
              "50%      64.000000    30.000000    22.000000    86.000000    16.000000\n",
              "75%      73.000000    42.000000    29.000000   122.500000    23.000000\n",
              "max     134.000000   126.000000    88.000000   243.000000   148.000000"
            ]
          },
          "metadata": {},
          "execution_count": 9
        }
      ]
    },
    {
      "cell_type": "markdown",
      "metadata": {
        "id": "5KZ7F6pNNLf4"
      },
      "source": [
        "Mengatasi masalah missing value dengan impute data menggunakan nilai mean dan melakukan pemeriksaan ulang."
      ]
    },
    {
      "cell_type": "code",
      "metadata": {
        "id": "gaWk09RXrJ8C"
      },
      "source": [
        "#Impute data dengan nilai mean\n",
        "for col in df.columns:\n",
        "    val = df[col].mean()\n",
        "    df[col] = df[col].replace(0, val)"
      ],
      "execution_count": null,
      "outputs": []
    },
    {
      "cell_type": "code",
      "metadata": {
        "colab": {
          "base_uri": "https://localhost:8080/"
        },
        "id": "3IlBdUM_NG5I",
        "outputId": "790690b4-80f5-4104-9623-4d7670dbdcd0"
      },
      "source": [
        "#Memperlihatkan jumlah data kosong (missing value) di setiap kolomnya\n",
        "df.isna().sum()"
      ],
      "execution_count": null,
      "outputs": [
        {
          "output_type": "execute_result",
          "data": {
            "text/plain": [
              "pm10    0\n",
              "so2     0\n",
              "co      0\n",
              "o3      0\n",
              "no2     0\n",
              "dtype: int64"
            ]
          },
          "metadata": {},
          "execution_count": 11
        }
      ]
    },
    {
      "cell_type": "code",
      "metadata": {
        "colab": {
          "base_uri": "https://localhost:8080/"
        },
        "id": "fu1OLhN-6dD4",
        "outputId": "21aa5e02-5110-4e41-fa3f-b19bb4d8f848"
      },
      "source": [
        "df.info()"
      ],
      "execution_count": null,
      "outputs": [
        {
          "output_type": "stream",
          "name": "stdout",
          "text": [
            "<class 'pandas.core.frame.DataFrame'>\n",
            "DatetimeIndex: 1307 entries, 2018-01-01 to 2021-07-31\n",
            "Data columns (total 5 columns):\n",
            " #   Column  Non-Null Count  Dtype  \n",
            "---  ------  --------------  -----  \n",
            " 0   pm10    1307 non-null   float64\n",
            " 1   so2     1307 non-null   float64\n",
            " 2   co      1307 non-null   float64\n",
            " 3   o3      1307 non-null   float64\n",
            " 4   no2     1307 non-null   float64\n",
            "dtypes: float64(5)\n",
            "memory usage: 61.3 KB\n"
          ]
        }
      ]
    },
    {
      "cell_type": "markdown",
      "metadata": {
        "id": "hTB8JTEoNigG"
      },
      "source": [
        "Menambahkan variabel baru (average) dimana variabel tersebut merupakan nilai rata-rata zat pencemar udara yaitu PM10, SO2, CO, O3, dan NO2 dalam periode harian. "
      ]
    },
    {
      "cell_type": "code",
      "metadata": {
        "id": "vr-lp1Ny6X3a"
      },
      "source": [
        "#menambahkan nilai rata-rata dari seluruh polutan dalam periode harian\n",
        "df['average'] = df.mean(numeric_only=True, axis=1)"
      ],
      "execution_count": null,
      "outputs": []
    },
    {
      "cell_type": "code",
      "metadata": {
        "colab": {
          "base_uri": "https://localhost:8080/"
        },
        "id": "RlwdqlJg25qf",
        "outputId": "817f7379-4239-4684-d7e9-f9b7face5667"
      },
      "source": [
        "df.info()"
      ],
      "execution_count": null,
      "outputs": [
        {
          "output_type": "stream",
          "name": "stdout",
          "text": [
            "<class 'pandas.core.frame.DataFrame'>\n",
            "DatetimeIndex: 1307 entries, 2018-01-01 to 2021-07-31\n",
            "Data columns (total 6 columns):\n",
            " #   Column   Non-Null Count  Dtype  \n",
            "---  ------   --------------  -----  \n",
            " 0   pm10     1307 non-null   float64\n",
            " 1   so2      1307 non-null   float64\n",
            " 2   co       1307 non-null   float64\n",
            " 3   o3       1307 non-null   float64\n",
            " 4   no2      1307 non-null   float64\n",
            " 5   average  1307 non-null   float64\n",
            "dtypes: float64(6)\n",
            "memory usage: 71.5 KB\n"
          ]
        }
      ]
    },
    {
      "cell_type": "code",
      "metadata": {
        "colab": {
          "base_uri": "https://localhost:8080/",
          "height": 454
        },
        "id": "TE7U4lu-6i53",
        "outputId": "6c29dea9-00f1-4e15-e6b0-99598978c94a"
      },
      "source": [
        "df"
      ],
      "execution_count": null,
      "outputs": [
        {
          "output_type": "execute_result",
          "data": {
            "text/html": [
              "<div>\n",
              "<style scoped>\n",
              "    .dataframe tbody tr th:only-of-type {\n",
              "        vertical-align: middle;\n",
              "    }\n",
              "\n",
              "    .dataframe tbody tr th {\n",
              "        vertical-align: top;\n",
              "    }\n",
              "\n",
              "    .dataframe thead th {\n",
              "        text-align: right;\n",
              "    }\n",
              "</style>\n",
              "<table border=\"1\" class=\"dataframe\">\n",
              "  <thead>\n",
              "    <tr style=\"text-align: right;\">\n",
              "      <th></th>\n",
              "      <th>pm10</th>\n",
              "      <th>so2</th>\n",
              "      <th>co</th>\n",
              "      <th>o3</th>\n",
              "      <th>no2</th>\n",
              "      <th>average</th>\n",
              "    </tr>\n",
              "    <tr>\n",
              "      <th>tanggal</th>\n",
              "      <th></th>\n",
              "      <th></th>\n",
              "      <th></th>\n",
              "      <th></th>\n",
              "      <th></th>\n",
              "      <th></th>\n",
              "    </tr>\n",
              "  </thead>\n",
              "  <tbody>\n",
              "    <tr>\n",
              "      <th>2018-01-01</th>\n",
              "      <td>76.0</td>\n",
              "      <td>31.0</td>\n",
              "      <td>38.0</td>\n",
              "      <td>35.0</td>\n",
              "      <td>9.0</td>\n",
              "      <td>37.8</td>\n",
              "    </tr>\n",
              "    <tr>\n",
              "      <th>2018-01-02</th>\n",
              "      <td>23.0</td>\n",
              "      <td>31.0</td>\n",
              "      <td>24.0</td>\n",
              "      <td>39.0</td>\n",
              "      <td>14.0</td>\n",
              "      <td>26.2</td>\n",
              "    </tr>\n",
              "    <tr>\n",
              "      <th>2018-01-03</th>\n",
              "      <td>53.0</td>\n",
              "      <td>35.0</td>\n",
              "      <td>35.0</td>\n",
              "      <td>101.0</td>\n",
              "      <td>23.0</td>\n",
              "      <td>49.4</td>\n",
              "    </tr>\n",
              "    <tr>\n",
              "      <th>2018-01-04</th>\n",
              "      <td>53.0</td>\n",
              "      <td>49.0</td>\n",
              "      <td>34.0</td>\n",
              "      <td>57.0</td>\n",
              "      <td>15.0</td>\n",
              "      <td>41.6</td>\n",
              "    </tr>\n",
              "    <tr>\n",
              "      <th>2018-01-05</th>\n",
              "      <td>44.0</td>\n",
              "      <td>32.0</td>\n",
              "      <td>26.0</td>\n",
              "      <td>28.0</td>\n",
              "      <td>10.0</td>\n",
              "      <td>28.0</td>\n",
              "    </tr>\n",
              "    <tr>\n",
              "      <th>...</th>\n",
              "      <td>...</td>\n",
              "      <td>...</td>\n",
              "      <td>...</td>\n",
              "      <td>...</td>\n",
              "      <td>...</td>\n",
              "      <td>...</td>\n",
              "    </tr>\n",
              "    <tr>\n",
              "      <th>2021-07-27</th>\n",
              "      <td>82.0</td>\n",
              "      <td>56.0</td>\n",
              "      <td>13.0</td>\n",
              "      <td>41.0</td>\n",
              "      <td>35.0</td>\n",
              "      <td>45.4</td>\n",
              "    </tr>\n",
              "    <tr>\n",
              "      <th>2021-07-28</th>\n",
              "      <td>82.0</td>\n",
              "      <td>53.0</td>\n",
              "      <td>18.0</td>\n",
              "      <td>40.0</td>\n",
              "      <td>45.0</td>\n",
              "      <td>47.6</td>\n",
              "    </tr>\n",
              "    <tr>\n",
              "      <th>2021-07-29</th>\n",
              "      <td>78.0</td>\n",
              "      <td>52.0</td>\n",
              "      <td>18.0</td>\n",
              "      <td>53.0</td>\n",
              "      <td>39.0</td>\n",
              "      <td>48.0</td>\n",
              "    </tr>\n",
              "    <tr>\n",
              "      <th>2021-07-30</th>\n",
              "      <td>90.0</td>\n",
              "      <td>54.0</td>\n",
              "      <td>15.0</td>\n",
              "      <td>81.0</td>\n",
              "      <td>35.0</td>\n",
              "      <td>55.0</td>\n",
              "    </tr>\n",
              "    <tr>\n",
              "      <th>2021-07-31</th>\n",
              "      <td>63.0</td>\n",
              "      <td>50.0</td>\n",
              "      <td>18.0</td>\n",
              "      <td>65.0</td>\n",
              "      <td>29.0</td>\n",
              "      <td>45.0</td>\n",
              "    </tr>\n",
              "  </tbody>\n",
              "</table>\n",
              "<p>1307 rows × 6 columns</p>\n",
              "</div>"
            ],
            "text/plain": [
              "            pm10   so2    co     o3   no2  average\n",
              "tanggal                                           \n",
              "2018-01-01  76.0  31.0  38.0   35.0   9.0     37.8\n",
              "2018-01-02  23.0  31.0  24.0   39.0  14.0     26.2\n",
              "2018-01-03  53.0  35.0  35.0  101.0  23.0     49.4\n",
              "2018-01-04  53.0  49.0  34.0   57.0  15.0     41.6\n",
              "2018-01-05  44.0  32.0  26.0   28.0  10.0     28.0\n",
              "...          ...   ...   ...    ...   ...      ...\n",
              "2021-07-27  82.0  56.0  13.0   41.0  35.0     45.4\n",
              "2021-07-28  82.0  53.0  18.0   40.0  45.0     47.6\n",
              "2021-07-29  78.0  52.0  18.0   53.0  39.0     48.0\n",
              "2021-07-30  90.0  54.0  15.0   81.0  35.0     55.0\n",
              "2021-07-31  63.0  50.0  18.0   65.0  29.0     45.0\n",
              "\n",
              "[1307 rows x 6 columns]"
            ]
          },
          "metadata": {},
          "execution_count": 15
        }
      ]
    },
    {
      "cell_type": "code",
      "metadata": {
        "colab": {
          "base_uri": "https://localhost:8080/"
        },
        "id": "Bw5TQ-iDzEr3",
        "outputId": "cadef01d-83be-4ac6-d011-ff3272f1dfd8"
      },
      "source": [
        "df.shape"
      ],
      "execution_count": null,
      "outputs": [
        {
          "output_type": "execute_result",
          "data": {
            "text/plain": [
              "(1307, 6)"
            ]
          },
          "metadata": {},
          "execution_count": 16
        }
      ]
    },
    {
      "cell_type": "code",
      "source": [
        "df.describe()"
      ],
      "metadata": {
        "colab": {
          "base_uri": "https://localhost:8080/",
          "height": 300
        },
        "id": "MhHvyWQOfgGN",
        "outputId": "f118812a-e409-4bf1-da5f-093fc6d67420"
      },
      "execution_count": null,
      "outputs": [
        {
          "output_type": "execute_result",
          "data": {
            "text/html": [
              "<div>\n",
              "<style scoped>\n",
              "    .dataframe tbody tr th:only-of-type {\n",
              "        vertical-align: middle;\n",
              "    }\n",
              "\n",
              "    .dataframe tbody tr th {\n",
              "        vertical-align: top;\n",
              "    }\n",
              "\n",
              "    .dataframe thead th {\n",
              "        text-align: right;\n",
              "    }\n",
              "</style>\n",
              "<table border=\"1\" class=\"dataframe\">\n",
              "  <thead>\n",
              "    <tr style=\"text-align: right;\">\n",
              "      <th></th>\n",
              "      <th>pm10</th>\n",
              "      <th>so2</th>\n",
              "      <th>co</th>\n",
              "      <th>o3</th>\n",
              "      <th>no2</th>\n",
              "      <th>average</th>\n",
              "    </tr>\n",
              "  </thead>\n",
              "  <tbody>\n",
              "    <tr>\n",
              "      <th>count</th>\n",
              "      <td>1307.000000</td>\n",
              "      <td>1307.000000</td>\n",
              "      <td>1307.000000</td>\n",
              "      <td>1307.000000</td>\n",
              "      <td>1307.000000</td>\n",
              "      <td>1307.000000</td>\n",
              "    </tr>\n",
              "    <tr>\n",
              "      <th>mean</th>\n",
              "      <td>62.532590</td>\n",
              "      <td>37.263923</td>\n",
              "      <td>24.202926</td>\n",
              "      <td>95.628855</td>\n",
              "      <td>23.895570</td>\n",
              "      <td>48.704773</td>\n",
              "    </tr>\n",
              "    <tr>\n",
              "      <th>std</th>\n",
              "      <td>15.058202</td>\n",
              "      <td>18.318029</td>\n",
              "      <td>10.581481</td>\n",
              "      <td>44.288311</td>\n",
              "      <td>21.670891</td>\n",
              "      <td>12.563854</td>\n",
              "    </tr>\n",
              "    <tr>\n",
              "      <th>min</th>\n",
              "      <td>20.000000</td>\n",
              "      <td>9.000000</td>\n",
              "      <td>5.000000</td>\n",
              "      <td>18.000000</td>\n",
              "      <td>3.000000</td>\n",
              "      <td>21.600000</td>\n",
              "    </tr>\n",
              "    <tr>\n",
              "      <th>25%</th>\n",
              "      <td>54.000000</td>\n",
              "      <td>25.000000</td>\n",
              "      <td>17.000000</td>\n",
              "      <td>62.000000</td>\n",
              "      <td>12.000000</td>\n",
              "      <td>40.000000</td>\n",
              "    </tr>\n",
              "    <tr>\n",
              "      <th>50%</th>\n",
              "      <td>64.000000</td>\n",
              "      <td>31.000000</td>\n",
              "      <td>22.000000</td>\n",
              "      <td>88.000000</td>\n",
              "      <td>16.000000</td>\n",
              "      <td>46.800000</td>\n",
              "    </tr>\n",
              "    <tr>\n",
              "      <th>75%</th>\n",
              "      <td>73.000000</td>\n",
              "      <td>42.000000</td>\n",
              "      <td>29.000000</td>\n",
              "      <td>122.500000</td>\n",
              "      <td>23.553175</td>\n",
              "      <td>55.800000</td>\n",
              "    </tr>\n",
              "    <tr>\n",
              "      <th>max</th>\n",
              "      <td>134.000000</td>\n",
              "      <td>126.000000</td>\n",
              "      <td>88.000000</td>\n",
              "      <td>243.000000</td>\n",
              "      <td>148.000000</td>\n",
              "      <td>98.800000</td>\n",
              "    </tr>\n",
              "  </tbody>\n",
              "</table>\n",
              "</div>"
            ],
            "text/plain": [
              "              pm10          so2  ...          no2      average\n",
              "count  1307.000000  1307.000000  ...  1307.000000  1307.000000\n",
              "mean     62.532590    37.263923  ...    23.895570    48.704773\n",
              "std      15.058202    18.318029  ...    21.670891    12.563854\n",
              "min      20.000000     9.000000  ...     3.000000    21.600000\n",
              "25%      54.000000    25.000000  ...    12.000000    40.000000\n",
              "50%      64.000000    31.000000  ...    16.000000    46.800000\n",
              "75%      73.000000    42.000000  ...    23.553175    55.800000\n",
              "max     134.000000   126.000000  ...   148.000000    98.800000\n",
              "\n",
              "[8 rows x 6 columns]"
            ]
          },
          "metadata": {},
          "execution_count": 17
        }
      ]
    },
    {
      "cell_type": "markdown",
      "metadata": {
        "id": "oO_VUjyz6lP4"
      },
      "source": [
        "##Splitting data"
      ]
    },
    {
      "cell_type": "markdown",
      "metadata": {
        "id": "8v3xYKNfR7KU"
      },
      "source": [
        "Selanjutnya, data dibagi menjadi dua bagian yaitu training dan testing. Pembagian dataset diatur dengan persentase 77% untuk training dan 23% untuk testing. "
      ]
    },
    {
      "cell_type": "code",
      "metadata": {
        "id": "S8gbC7Je6uJ0"
      },
      "source": [
        "df_train = df.loc['2018-01-01':'2020-09-30'] #data training adalah data dalam periode 1 Januari 2018 sampai 30 September 2020\n",
        "df_test = df.loc['2020-10-01':'2021-07-31'] #data testing adalah data dalam periode 30 September 2020 sampai 7 Juli 2021"
      ],
      "execution_count": null,
      "outputs": []
    },
    {
      "cell_type": "code",
      "metadata": {
        "colab": {
          "base_uri": "https://localhost:8080/"
        },
        "id": "VKliCKg96z79",
        "outputId": "5cdf9431-db70-4991-c4fb-c6d76cdb5ae8"
      },
      "source": [
        "df_train"
      ],
      "execution_count": null,
      "outputs": [
        {
          "output_type": "execute_result",
          "data": {
            "text/html": [
              "<div>\n",
              "<style scoped>\n",
              "    .dataframe tbody tr th:only-of-type {\n",
              "        vertical-align: middle;\n",
              "    }\n",
              "\n",
              "    .dataframe tbody tr th {\n",
              "        vertical-align: top;\n",
              "    }\n",
              "\n",
              "    .dataframe thead th {\n",
              "        text-align: right;\n",
              "    }\n",
              "</style>\n",
              "<table border=\"1\" class=\"dataframe\">\n",
              "  <thead>\n",
              "    <tr style=\"text-align: right;\">\n",
              "      <th></th>\n",
              "      <th>pm10</th>\n",
              "      <th>so2</th>\n",
              "      <th>co</th>\n",
              "      <th>o3</th>\n",
              "      <th>no2</th>\n",
              "      <th>average</th>\n",
              "    </tr>\n",
              "    <tr>\n",
              "      <th>tanggal</th>\n",
              "      <th></th>\n",
              "      <th></th>\n",
              "      <th></th>\n",
              "      <th></th>\n",
              "      <th></th>\n",
              "      <th></th>\n",
              "    </tr>\n",
              "  </thead>\n",
              "  <tbody>\n",
              "    <tr>\n",
              "      <th>2018-01-01</th>\n",
              "      <td>76.0</td>\n",
              "      <td>31.0</td>\n",
              "      <td>38.0</td>\n",
              "      <td>35.0</td>\n",
              "      <td>9.0</td>\n",
              "      <td>37.8</td>\n",
              "    </tr>\n",
              "    <tr>\n",
              "      <th>2018-01-02</th>\n",
              "      <td>23.0</td>\n",
              "      <td>31.0</td>\n",
              "      <td>24.0</td>\n",
              "      <td>39.0</td>\n",
              "      <td>14.0</td>\n",
              "      <td>26.2</td>\n",
              "    </tr>\n",
              "    <tr>\n",
              "      <th>2018-01-03</th>\n",
              "      <td>53.0</td>\n",
              "      <td>35.0</td>\n",
              "      <td>35.0</td>\n",
              "      <td>101.0</td>\n",
              "      <td>23.0</td>\n",
              "      <td>49.4</td>\n",
              "    </tr>\n",
              "    <tr>\n",
              "      <th>2018-01-04</th>\n",
              "      <td>53.0</td>\n",
              "      <td>49.0</td>\n",
              "      <td>34.0</td>\n",
              "      <td>57.0</td>\n",
              "      <td>15.0</td>\n",
              "      <td>41.6</td>\n",
              "    </tr>\n",
              "    <tr>\n",
              "      <th>2018-01-05</th>\n",
              "      <td>44.0</td>\n",
              "      <td>32.0</td>\n",
              "      <td>26.0</td>\n",
              "      <td>28.0</td>\n",
              "      <td>10.0</td>\n",
              "      <td>28.0</td>\n",
              "    </tr>\n",
              "    <tr>\n",
              "      <th>...</th>\n",
              "      <td>...</td>\n",
              "      <td>...</td>\n",
              "      <td>...</td>\n",
              "      <td>...</td>\n",
              "      <td>...</td>\n",
              "      <td>...</td>\n",
              "    </tr>\n",
              "    <tr>\n",
              "      <th>2020-09-26</th>\n",
              "      <td>73.0</td>\n",
              "      <td>105.0</td>\n",
              "      <td>30.0</td>\n",
              "      <td>118.0</td>\n",
              "      <td>99.0</td>\n",
              "      <td>85.0</td>\n",
              "    </tr>\n",
              "    <tr>\n",
              "      <th>2020-09-27</th>\n",
              "      <td>70.0</td>\n",
              "      <td>96.0</td>\n",
              "      <td>31.0</td>\n",
              "      <td>98.0</td>\n",
              "      <td>93.0</td>\n",
              "      <td>77.6</td>\n",
              "    </tr>\n",
              "    <tr>\n",
              "      <th>2020-09-28</th>\n",
              "      <td>74.0</td>\n",
              "      <td>77.0</td>\n",
              "      <td>31.0</td>\n",
              "      <td>97.0</td>\n",
              "      <td>79.0</td>\n",
              "      <td>71.6</td>\n",
              "    </tr>\n",
              "    <tr>\n",
              "      <th>2020-09-29</th>\n",
              "      <td>68.0</td>\n",
              "      <td>72.0</td>\n",
              "      <td>34.0</td>\n",
              "      <td>97.0</td>\n",
              "      <td>92.0</td>\n",
              "      <td>72.6</td>\n",
              "    </tr>\n",
              "    <tr>\n",
              "      <th>2020-09-30</th>\n",
              "      <td>57.0</td>\n",
              "      <td>78.0</td>\n",
              "      <td>34.0</td>\n",
              "      <td>78.0</td>\n",
              "      <td>82.0</td>\n",
              "      <td>65.8</td>\n",
              "    </tr>\n",
              "  </tbody>\n",
              "</table>\n",
              "<p>1003 rows × 6 columns</p>\n",
              "</div>"
            ],
            "text/plain": [
              "            pm10    so2    co     o3   no2  average\n",
              "tanggal                                            \n",
              "2018-01-01  76.0   31.0  38.0   35.0   9.0     37.8\n",
              "2018-01-02  23.0   31.0  24.0   39.0  14.0     26.2\n",
              "2018-01-03  53.0   35.0  35.0  101.0  23.0     49.4\n",
              "2018-01-04  53.0   49.0  34.0   57.0  15.0     41.6\n",
              "2018-01-05  44.0   32.0  26.0   28.0  10.0     28.0\n",
              "...          ...    ...   ...    ...   ...      ...\n",
              "2020-09-26  73.0  105.0  30.0  118.0  99.0     85.0\n",
              "2020-09-27  70.0   96.0  31.0   98.0  93.0     77.6\n",
              "2020-09-28  74.0   77.0  31.0   97.0  79.0     71.6\n",
              "2020-09-29  68.0   72.0  34.0   97.0  92.0     72.6\n",
              "2020-09-30  57.0   78.0  34.0   78.0  82.0     65.8\n",
              "\n",
              "[1003 rows x 6 columns]"
            ]
          },
          "metadata": {},
          "execution_count": 19
        }
      ]
    },
    {
      "cell_type": "code",
      "metadata": {
        "colab": {
          "base_uri": "https://localhost:8080/"
        },
        "id": "ISEAaWm961D5",
        "outputId": "12e7c283-13c9-4947-d7f0-f81d81540c01"
      },
      "source": [
        "df_test"
      ],
      "execution_count": null,
      "outputs": [
        {
          "output_type": "execute_result",
          "data": {
            "text/html": [
              "<div>\n",
              "<style scoped>\n",
              "    .dataframe tbody tr th:only-of-type {\n",
              "        vertical-align: middle;\n",
              "    }\n",
              "\n",
              "    .dataframe tbody tr th {\n",
              "        vertical-align: top;\n",
              "    }\n",
              "\n",
              "    .dataframe thead th {\n",
              "        text-align: right;\n",
              "    }\n",
              "</style>\n",
              "<table border=\"1\" class=\"dataframe\">\n",
              "  <thead>\n",
              "    <tr style=\"text-align: right;\">\n",
              "      <th></th>\n",
              "      <th>pm10</th>\n",
              "      <th>so2</th>\n",
              "      <th>co</th>\n",
              "      <th>o3</th>\n",
              "      <th>no2</th>\n",
              "      <th>average</th>\n",
              "    </tr>\n",
              "    <tr>\n",
              "      <th>tanggal</th>\n",
              "      <th></th>\n",
              "      <th></th>\n",
              "      <th></th>\n",
              "      <th></th>\n",
              "      <th></th>\n",
              "      <th></th>\n",
              "    </tr>\n",
              "  </thead>\n",
              "  <tbody>\n",
              "    <tr>\n",
              "      <th>2020-10-01</th>\n",
              "      <td>73.0</td>\n",
              "      <td>83.0</td>\n",
              "      <td>32.0</td>\n",
              "      <td>73.0</td>\n",
              "      <td>62.0</td>\n",
              "      <td>64.6</td>\n",
              "    </tr>\n",
              "    <tr>\n",
              "      <th>2020-10-02</th>\n",
              "      <td>83.0</td>\n",
              "      <td>89.0</td>\n",
              "      <td>35.0</td>\n",
              "      <td>87.0</td>\n",
              "      <td>79.0</td>\n",
              "      <td>74.6</td>\n",
              "    </tr>\n",
              "    <tr>\n",
              "      <th>2020-10-03</th>\n",
              "      <td>74.0</td>\n",
              "      <td>77.0</td>\n",
              "      <td>32.0</td>\n",
              "      <td>80.0</td>\n",
              "      <td>89.0</td>\n",
              "      <td>70.4</td>\n",
              "    </tr>\n",
              "    <tr>\n",
              "      <th>2020-10-04</th>\n",
              "      <td>79.0</td>\n",
              "      <td>83.0</td>\n",
              "      <td>33.0</td>\n",
              "      <td>108.0</td>\n",
              "      <td>95.0</td>\n",
              "      <td>79.6</td>\n",
              "    </tr>\n",
              "    <tr>\n",
              "      <th>2020-10-05</th>\n",
              "      <td>62.0</td>\n",
              "      <td>64.0</td>\n",
              "      <td>32.0</td>\n",
              "      <td>109.0</td>\n",
              "      <td>128.0</td>\n",
              "      <td>79.0</td>\n",
              "    </tr>\n",
              "    <tr>\n",
              "      <th>...</th>\n",
              "      <td>...</td>\n",
              "      <td>...</td>\n",
              "      <td>...</td>\n",
              "      <td>...</td>\n",
              "      <td>...</td>\n",
              "      <td>...</td>\n",
              "    </tr>\n",
              "    <tr>\n",
              "      <th>2021-07-27</th>\n",
              "      <td>82.0</td>\n",
              "      <td>56.0</td>\n",
              "      <td>13.0</td>\n",
              "      <td>41.0</td>\n",
              "      <td>35.0</td>\n",
              "      <td>45.4</td>\n",
              "    </tr>\n",
              "    <tr>\n",
              "      <th>2021-07-28</th>\n",
              "      <td>82.0</td>\n",
              "      <td>53.0</td>\n",
              "      <td>18.0</td>\n",
              "      <td>40.0</td>\n",
              "      <td>45.0</td>\n",
              "      <td>47.6</td>\n",
              "    </tr>\n",
              "    <tr>\n",
              "      <th>2021-07-29</th>\n",
              "      <td>78.0</td>\n",
              "      <td>52.0</td>\n",
              "      <td>18.0</td>\n",
              "      <td>53.0</td>\n",
              "      <td>39.0</td>\n",
              "      <td>48.0</td>\n",
              "    </tr>\n",
              "    <tr>\n",
              "      <th>2021-07-30</th>\n",
              "      <td>90.0</td>\n",
              "      <td>54.0</td>\n",
              "      <td>15.0</td>\n",
              "      <td>81.0</td>\n",
              "      <td>35.0</td>\n",
              "      <td>55.0</td>\n",
              "    </tr>\n",
              "    <tr>\n",
              "      <th>2021-07-31</th>\n",
              "      <td>63.0</td>\n",
              "      <td>50.0</td>\n",
              "      <td>18.0</td>\n",
              "      <td>65.0</td>\n",
              "      <td>29.0</td>\n",
              "      <td>45.0</td>\n",
              "    </tr>\n",
              "  </tbody>\n",
              "</table>\n",
              "<p>304 rows × 6 columns</p>\n",
              "</div>"
            ],
            "text/plain": [
              "            pm10   so2    co     o3    no2  average\n",
              "tanggal                                            \n",
              "2020-10-01  73.0  83.0  32.0   73.0   62.0     64.6\n",
              "2020-10-02  83.0  89.0  35.0   87.0   79.0     74.6\n",
              "2020-10-03  74.0  77.0  32.0   80.0   89.0     70.4\n",
              "2020-10-04  79.0  83.0  33.0  108.0   95.0     79.6\n",
              "2020-10-05  62.0  64.0  32.0  109.0  128.0     79.0\n",
              "...          ...   ...   ...    ...    ...      ...\n",
              "2021-07-27  82.0  56.0  13.0   41.0   35.0     45.4\n",
              "2021-07-28  82.0  53.0  18.0   40.0   45.0     47.6\n",
              "2021-07-29  78.0  52.0  18.0   53.0   39.0     48.0\n",
              "2021-07-30  90.0  54.0  15.0   81.0   35.0     55.0\n",
              "2021-07-31  63.0  50.0  18.0   65.0   29.0     45.0\n",
              "\n",
              "[304 rows x 6 columns]"
            ]
          },
          "metadata": {},
          "execution_count": 20
        }
      ]
    },
    {
      "cell_type": "code",
      "metadata": {
        "colab": {
          "base_uri": "https://localhost:8080/"
        },
        "id": "xMKOQmvU60_4",
        "outputId": "e46feedc-364e-4d65-a44e-04ae1a8f6b24"
      },
      "source": [
        "print(df_train.shape, df_test.shape)"
      ],
      "execution_count": null,
      "outputs": [
        {
          "output_type": "stream",
          "name": "stdout",
          "text": [
            "(1003, 6) (304, 6)\n"
          ]
        }
      ]
    },
    {
      "cell_type": "markdown",
      "metadata": {
        "id": "0o6EupvkRgPP"
      },
      "source": [
        "Setelah melakukan pembagian data yang menghasilkan 1003 data untuk data training dan 304 data untuk data testing, tahapan selanjutnya adalah Normalisasi Data. Normalisasi data dilakukan dengan menyamaratakan rentang nilai pada numerical data sehingga nilainya berkisar antara 0 dan 1 atau rentang [0,1]. "
      ]
    },
    {
      "cell_type": "code",
      "metadata": {
        "id": "UqcZB0Ep7Eec"
      },
      "source": [
        "# Normalize data\n",
        "scaler = MinMaxScaler(feature_range=(0,1))\n",
        "scaled_data = scaler.fit_transform(df_train['average'].values.reshape(-1,1))"
      ],
      "execution_count": null,
      "outputs": []
    },
    {
      "cell_type": "code",
      "metadata": {
        "id": "QLcpDDjz7KJD"
      },
      "source": [
        "# how many days do i want to base my predictions on ?\n",
        "prediction_days = 5\n",
        "\n",
        "x_train = []\n",
        "y_train = []\n",
        "\n",
        "for x in range(prediction_days, len(scaled_data)):\n",
        "    x_train.append(scaled_data[x - prediction_days:x, 0])\n",
        "    y_train.append(scaled_data[x, 0])\n",
        "    \n",
        "x_train, y_train = np.array(x_train), np.array(y_train)\n",
        "x_train = np.reshape(x_train, (x_train.shape[0], x_train.shape[1], 1))"
      ],
      "execution_count": null,
      "outputs": []
    },
    {
      "cell_type": "markdown",
      "metadata": {
        "id": "0di_dZpsHqHA"
      },
      "source": [
        "##Pembuatan model dengan menggunakan metode *Long Short-Term Memory* (LSTM) "
      ]
    },
    {
      "cell_type": "code",
      "metadata": {
        "colab": {
          "base_uri": "https://localhost:8080/"
        },
        "id": "Qf52qUzT7KDp",
        "outputId": "d5fc8eae-3ced-4002-e68d-4b718b3c5550"
      },
      "source": [
        "model = Sequential()\n",
        "    \n",
        "model.add(LSTM(units = 50,activation=\"tanh\", return_sequences = True, input_shape = (x_train.shape[1],1)))\n",
        "model.add(Dropout(0.2))\n",
        "\n",
        "model.add(LSTM(units = 50,activation=\"tanh\", return_sequences = True))\n",
        "model.add(Dropout(0.2))\n",
        "\n",
        "model.add(LSTM(units = 50,activation=\"tanh\"))\n",
        "model.add(Dropout(0.2))\n",
        "    \n",
        "model.add(Dense(units=1))\n",
        "\n",
        "model.summary()\n",
        "model.compile(optimizer='adam', \n",
        "              loss='mean_squared_error')"
      ],
      "execution_count": null,
      "outputs": [
        {
          "output_type": "stream",
          "name": "stdout",
          "text": [
            "Model: \"sequential\"\n",
            "_________________________________________________________________\n",
            " Layer (type)                Output Shape              Param #   \n",
            "=================================================================\n",
            " lstm (LSTM)                 (None, 5, 50)             10400     \n",
            "                                                                 \n",
            " dropout (Dropout)           (None, 5, 50)             0         \n",
            "                                                                 \n",
            " lstm_1 (LSTM)               (None, 5, 50)             20200     \n",
            "                                                                 \n",
            " dropout_1 (Dropout)         (None, 5, 50)             0         \n",
            "                                                                 \n",
            " lstm_2 (LSTM)               (None, 50)                20200     \n",
            "                                                                 \n",
            " dropout_2 (Dropout)         (None, 50)                0         \n",
            "                                                                 \n",
            " dense (Dense)               (None, 1)                 51        \n",
            "                                                                 \n",
            "=================================================================\n",
            "Total params: 50,851\n",
            "Trainable params: 50,851\n",
            "Non-trainable params: 0\n",
            "_________________________________________________________________\n"
          ]
        }
      ]
    },
    {
      "cell_type": "code",
      "metadata": {
        "colab": {
          "base_uri": "https://localhost:8080/"
        },
        "id": "k9-OYwV_7NEa",
        "outputId": "909a5033-a4f6-4ab1-8f0a-afe5ca7a3def"
      },
      "source": [
        "class myCallback(tf.keras.callbacks.Callback):\n",
        "  def on_epoch_end(self, epoch, logs={}):\n",
        "    if(logs.get('loss')<0.002):\n",
        "      print(\"\\nReached 0,005 so cancelling training!\")\n",
        "      self.model.stop_training = True\n",
        "callbacks = myCallback()\n",
        "\n",
        "model.fit(x_train, \n",
        "          y_train, \n",
        "          epochs=50,\n",
        "          callbacks = [callbacks])"
      ],
      "execution_count": null,
      "outputs": [
        {
          "output_type": "stream",
          "name": "stdout",
          "text": [
            "Epoch 1/50\n",
            "32/32 [==============================] - 6s 10ms/step - loss: 0.0449\n",
            "Epoch 2/50\n",
            "32/32 [==============================] - 0s 10ms/step - loss: 0.0200\n",
            "Epoch 3/50\n",
            "32/32 [==============================] - 0s 10ms/step - loss: 0.0185\n",
            "Epoch 4/50\n",
            "32/32 [==============================] - 0s 10ms/step - loss: 0.0183\n",
            "Epoch 5/50\n",
            "32/32 [==============================] - 0s 10ms/step - loss: 0.0184\n",
            "Epoch 6/50\n",
            "32/32 [==============================] - 0s 10ms/step - loss: 0.0188\n",
            "Epoch 7/50\n",
            "32/32 [==============================] - 0s 11ms/step - loss: 0.0181\n",
            "Epoch 8/50\n",
            "32/32 [==============================] - 0s 10ms/step - loss: 0.0185\n",
            "Epoch 9/50\n",
            "32/32 [==============================] - 0s 10ms/step - loss: 0.0185\n",
            "Epoch 10/50\n",
            "32/32 [==============================] - 0s 11ms/step - loss: 0.0172\n",
            "Epoch 11/50\n",
            "32/32 [==============================] - 0s 10ms/step - loss: 0.0173\n",
            "Epoch 12/50\n",
            "32/32 [==============================] - 0s 10ms/step - loss: 0.0173\n",
            "Epoch 13/50\n",
            "32/32 [==============================] - 0s 10ms/step - loss: 0.0175\n",
            "Epoch 14/50\n",
            "32/32 [==============================] - 0s 10ms/step - loss: 0.0170\n",
            "Epoch 15/50\n",
            "32/32 [==============================] - 0s 10ms/step - loss: 0.0165\n",
            "Epoch 16/50\n",
            "32/32 [==============================] - 0s 10ms/step - loss: 0.0161\n",
            "Epoch 17/50\n",
            "32/32 [==============================] - 0s 11ms/step - loss: 0.0160\n",
            "Epoch 18/50\n",
            "32/32 [==============================] - 0s 10ms/step - loss: 0.0157\n",
            "Epoch 19/50\n",
            "32/32 [==============================] - 0s 10ms/step - loss: 0.0150\n",
            "Epoch 20/50\n",
            "32/32 [==============================] - 0s 10ms/step - loss: 0.0154\n",
            "Epoch 21/50\n",
            "32/32 [==============================] - 0s 11ms/step - loss: 0.0156\n",
            "Epoch 22/50\n",
            "32/32 [==============================] - 0s 10ms/step - loss: 0.0151\n",
            "Epoch 23/50\n",
            "32/32 [==============================] - 0s 11ms/step - loss: 0.0147\n",
            "Epoch 24/50\n",
            "32/32 [==============================] - 0s 10ms/step - loss: 0.0140\n",
            "Epoch 25/50\n",
            "32/32 [==============================] - 0s 11ms/step - loss: 0.0145\n",
            "Epoch 26/50\n",
            "32/32 [==============================] - 0s 11ms/step - loss: 0.0138\n",
            "Epoch 27/50\n",
            "32/32 [==============================] - 0s 11ms/step - loss: 0.0134\n",
            "Epoch 28/50\n",
            "32/32 [==============================] - 0s 11ms/step - loss: 0.0135\n",
            "Epoch 29/50\n",
            "32/32 [==============================] - 0s 10ms/step - loss: 0.0137\n",
            "Epoch 30/50\n",
            "32/32 [==============================] - 0s 10ms/step - loss: 0.0138\n",
            "Epoch 31/50\n",
            "32/32 [==============================] - 0s 11ms/step - loss: 0.0139\n",
            "Epoch 32/50\n",
            "32/32 [==============================] - 0s 11ms/step - loss: 0.0135\n",
            "Epoch 33/50\n",
            "32/32 [==============================] - 0s 10ms/step - loss: 0.0136\n",
            "Epoch 34/50\n",
            "32/32 [==============================] - 0s 10ms/step - loss: 0.0136\n",
            "Epoch 35/50\n",
            "32/32 [==============================] - 0s 10ms/step - loss: 0.0134\n",
            "Epoch 36/50\n",
            "32/32 [==============================] - 0s 10ms/step - loss: 0.0135\n",
            "Epoch 37/50\n",
            "32/32 [==============================] - 0s 10ms/step - loss: 0.0131\n",
            "Epoch 38/50\n",
            "32/32 [==============================] - 0s 10ms/step - loss: 0.0135\n",
            "Epoch 39/50\n",
            "32/32 [==============================] - 0s 10ms/step - loss: 0.0141\n",
            "Epoch 40/50\n",
            "32/32 [==============================] - 0s 10ms/step - loss: 0.0140\n",
            "Epoch 41/50\n",
            "32/32 [==============================] - 0s 10ms/step - loss: 0.0135\n",
            "Epoch 42/50\n",
            "32/32 [==============================] - 0s 10ms/step - loss: 0.0135\n",
            "Epoch 43/50\n",
            "32/32 [==============================] - 0s 10ms/step - loss: 0.0133\n",
            "Epoch 44/50\n",
            "32/32 [==============================] - 0s 10ms/step - loss: 0.0131\n",
            "Epoch 45/50\n",
            "32/32 [==============================] - 0s 10ms/step - loss: 0.0133\n",
            "Epoch 46/50\n",
            "32/32 [==============================] - 0s 11ms/step - loss: 0.0132\n",
            "Epoch 47/50\n",
            "32/32 [==============================] - 0s 11ms/step - loss: 0.0132\n",
            "Epoch 48/50\n",
            "32/32 [==============================] - 0s 10ms/step - loss: 0.0130\n",
            "Epoch 49/50\n",
            "32/32 [==============================] - 0s 10ms/step - loss: 0.0132\n",
            "Epoch 50/50\n",
            "32/32 [==============================] - 0s 10ms/step - loss: 0.0135\n"
          ]
        },
        {
          "output_type": "execute_result",
          "data": {
            "text/plain": [
              "<keras.callbacks.History at 0x7f3cc6b4ab90>"
            ]
          },
          "metadata": {},
          "execution_count": 25
        }
      ]
    },
    {
      "cell_type": "markdown",
      "metadata": {
        "id": "lwIsy0ZSVoQw"
      },
      "source": [
        "Implementasi pada tahap pelatihan model LSTM dengan layer epoch yang digunakan sebanyak 300 menghasilkan nilai loss sebesar 0,110."
      ]
    },
    {
      "cell_type": "code",
      "metadata": {
        "id": "daBYFwZR7TxU"
      },
      "source": [
        "test_data = df_test\n",
        "\n",
        "actual_avg = df_test['average'].values\n",
        "\n",
        "total_dataset = df['average']\n",
        "\n",
        "model_inputs = total_dataset[len(total_dataset) - len(test_data) - prediction_days:].values\n",
        "model_inputs = model_inputs.reshape(-1,1)\n",
        "model_inputs = scaler.transform(model_inputs)"
      ],
      "execution_count": null,
      "outputs": []
    },
    {
      "cell_type": "code",
      "metadata": {
        "id": "R0fBSPd17rhE"
      },
      "source": [
        "#Memasukkan x_test untuk prediksi\n",
        "x_test = []\n",
        "for x in range(prediction_days, len(model_inputs)):\n",
        "    x_test.append(model_inputs[x-prediction_days:x, 0])\n",
        "\n",
        "x_test = np.array(x_test)\n",
        "x_test = np.reshape(x_test, (x_test.shape[0], x_test.shape[1] ,1))\n",
        "\n",
        "predicted_value = model.predict(x_test)\n",
        "predicted_value = scaler.inverse_transform(predicted_value)"
      ],
      "execution_count": null,
      "outputs": []
    },
    {
      "cell_type": "code",
      "metadata": {
        "colab": {
          "base_uri": "https://localhost:8080/",
          "height": 391
        },
        "id": "glff8k-v7yIY",
        "outputId": "1d579aa2-99e8-4445-de84-509e7b78a77b"
      },
      "source": [
        "plt.figure(figsize=(25,6))\n",
        "plt.plot(actual_avg, color='black', label=\"Actual average pollutant level\")\n",
        "plt.plot(predicted_value, color= 'green', label=\"Predicted average pollutant level\")\n",
        "plt.title(\"Prediction\")\n",
        "plt.xlabel(\"days\")\n",
        "plt.ylabel(\"Average pollutant value\")\n",
        "plt.legend()\n",
        "plt.show()"
      ],
      "execution_count": null,
      "outputs": [
        {
          "output_type": "display_data",
          "data": {
            "image/png": "[encoded data removed]",
            "text/plain": [
              "<Figure size 1800x432 with 1 Axes>"
            ]
          },
          "metadata": {
            "needs_background": "light"
          }
        }
      ]
    },
    {
      "cell_type": "markdown",
      "metadata": {
        "id": "cImAmpppV6lI"
      },
      "source": [
        "Hasil dari prediksi rata-rata ISPU DKI Jakarta 1 (Bundaran HI) menggunakan pemodelan LSTM akan divisualisasi dalam bentuk plot diagram. Diagram di atas membandingkan data rata-rata asli yang diwakilkan garis berwarna hitam dengan rata-rata hasul prediksi dari model yang diwakilkan dengan garis berwarna hijau. "
      ]
    },
    {
      "cell_type": "code",
      "metadata": {
        "id": "wgihh494ZeWZ",
        "colab": {
          "base_uri": "https://localhost:8080/"
        },
        "outputId": "8ec15df2-2721-4a1b-e17c-8af4fde4fa15"
      },
      "source": [
        "from sklearn.metrics import mean_absolute_percentage_error\n",
        "mape = mean_absolute_percentage_error(actual_avg, predicted_value)\n",
        "mape"
      ],
      "execution_count": null,
      "outputs": [
        {
          "output_type": "execute_result",
          "data": {
            "text/plain": [
              "0.12239162150101576"
            ]
          },
          "metadata": {},
          "execution_count": 29
        }
      ]
    },
    {
      "cell_type": "code",
      "source": [
        "from pickle import dump\n",
        "dump(model, open('model.pkl', 'wb'))\n",
        "dump(scaler, open('scaler.pkl', 'wb'))"
      ],
      "metadata": {
        "colab": {
          "base_uri": "https://localhost:8080/"
        },
        "id": "BoAEzEP6hpw9",
        "outputId": "1bd9ab84-cc40-45e6-9a26-f1a317ebe206"
      },
      "execution_count": null,
      "outputs": [
        {
          "output_type": "stream",
          "name": "stderr",
          "text": [
            "WARNING:absl:Found untraced functions such as lstm_cell_layer_call_fn, lstm_cell_layer_call_and_return_conditional_losses, lstm_cell_1_layer_call_fn, lstm_cell_1_layer_call_and_return_conditional_losses, lstm_cell_2_layer_call_fn while saving (showing 5 of 15). These functions will not be directly callable after loading.\n"
          ]
        },
        {
          "output_type": "stream",
          "name": "stdout",
          "text": [
            "INFO:tensorflow:Assets written to: ram://915f900b-bc89-4dc8-8630-96135c8b5b5b/assets\n"
          ]
        },
        {
          "output_type": "stream",
          "name": "stderr",
          "text": [
            "INFO:tensorflow:Assets written to: ram://915f900b-bc89-4dc8-8630-96135c8b5b5b/assets\n",
            "WARNING:absl:<keras.layers.recurrent.LSTMCell object at 0x7f3cca776dd0> has the same name 'LSTMCell' as a built-in Keras object. Consider renaming <class 'keras.layers.recurrent.LSTMCell'> to avoid naming conflicts when loading with `tf.keras.models.load_model`. If renaming is not possible, pass the object in the `custom_objects` parameter of the load function.\n",
            "WARNING:absl:<keras.layers.recurrent.LSTMCell object at 0x7f3cc6ca68d0> has the same name 'LSTMCell' as a built-in Keras object. Consider renaming <class 'keras.layers.recurrent.LSTMCell'> to avoid naming conflicts when loading with `tf.keras.models.load_model`. If renaming is not possible, pass the object in the `custom_objects` parameter of the load function.\n",
            "WARNING:absl:<keras.layers.recurrent.LSTMCell object at 0x7f3cc6c7a950> has the same name 'LSTMCell' as a built-in Keras object. Consider renaming <class 'keras.layers.recurrent.LSTMCell'> to avoid naming conflicts when loading with `tf.keras.models.load_model`. If renaming is not possible, pass the object in the `custom_objects` parameter of the load function.\n"
          ]
        }
      ]
    },
    {
      "cell_type": "code",
      "source": [
        "d1, d2, d3, d4, d5 = 45, 49, 54,40,50\n",
        "dt = np.array([[d1],[d2],[d3],[d4],[d5]])\n",
        "dt = scaler.transform(dt)\n",
        "dt = dt.reshape(1,-1,1)\n",
        "pred = model.predict(dt)\n",
        "pred = scaler.inverse_transform(pred)\n",
        "pred"
      ],
      "metadata": {
        "colab": {
          "base_uri": "https://localhost:8080/"
        },
        "id": "g8VymPSR7JzZ",
        "outputId": "1ae4e088-2c79-4d96-f565-9890c61bdeb0"
      },
      "execution_count": null,
      "outputs": [
        {
          "output_type": "execute_result",
          "data": {
            "text/plain": [
              "array([[48.245598]], dtype=float32)"
            ]
          },
          "metadata": {},
          "execution_count": 31
        }
      ]
    },
    {
      "cell_type": "code",
      "metadata": {
        "id": "Bxfcx_t1915g",
        "colab": {
          "base_uri": "https://localhost:8080/"
        },
        "outputId": "d04a2d69-ebef-403e-8877-80f47b127c6b"
      },
      "source": [
        "model.save('model')"
      ],
      "execution_count": null,
      "outputs": [
        {
          "output_type": "stream",
          "name": "stderr",
          "text": [
            "WARNING:absl:Found untraced functions such as lstm_cell_layer_call_fn, lstm_cell_layer_call_and_return_conditional_losses, lstm_cell_1_layer_call_fn, lstm_cell_1_layer_call_and_return_conditional_losses, lstm_cell_2_layer_call_fn while saving (showing 5 of 15). These functions will not be directly callable after loading.\n"
          ]
        },
        {
          "output_type": "stream",
          "name": "stdout",
          "text": [
            "INFO:tensorflow:Assets written to: model/assets\n"
          ]
        },
        {
          "output_type": "stream",
          "name": "stderr",
          "text": [
            "INFO:tensorflow:Assets written to: model/assets\n",
            "WARNING:absl:<keras.layers.recurrent.LSTMCell object at 0x7f3cca776dd0> has the same name 'LSTMCell' as a built-in Keras object. Consider renaming <class 'keras.layers.recurrent.LSTMCell'> to avoid naming conflicts when loading with `tf.keras.models.load_model`. If renaming is not possible, pass the object in the `custom_objects` parameter of the load function.\n",
            "WARNING:absl:<keras.layers.recurrent.LSTMCell object at 0x7f3cc6ca68d0> has the same name 'LSTMCell' as a built-in Keras object. Consider renaming <class 'keras.layers.recurrent.LSTMCell'> to avoid naming conflicts when loading with `tf.keras.models.load_model`. If renaming is not possible, pass the object in the `custom_objects` parameter of the load function.\n",
            "WARNING:absl:<keras.layers.recurrent.LSTMCell object at 0x7f3cc6c7a950> has the same name 'LSTMCell' as a built-in Keras object. Consider renaming <class 'keras.layers.recurrent.LSTMCell'> to avoid naming conflicts when loading with `tf.keras.models.load_model`. If renaming is not possible, pass the object in the `custom_objects` parameter of the load function.\n"
          ]
        }
      ]
    }
  ]
}